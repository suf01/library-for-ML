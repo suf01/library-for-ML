{
 "cells": [
  {
   "cell_type": "code",
   "execution_count": 1,
   "id": "bdaa9ed8",
   "metadata": {},
   "outputs": [],
   "source": [
    "import numpy as np"
   ]
  },
  {
   "cell_type": "code",
   "execution_count": 2,
   "id": "6f7f9309",
   "metadata": {},
   "outputs": [],
   "source": [
    "str1 = \"This\"\n",
    "str2 = \"That\""
   ]
  },
  {
   "cell_type": "code",
   "execution_count": 3,
   "id": "04fc4bfa",
   "metadata": {},
   "outputs": [
    {
     "data": {
      "text/plain": [
       "array('ThisThat', dtype='<U8')"
      ]
     },
     "execution_count": 3,
     "metadata": {},
     "output_type": "execute_result"
    }
   ],
   "source": [
    "np.char.add(str1, str2)"
   ]
  },
  {
   "cell_type": "code",
   "execution_count": 5,
   "id": "94faeea6",
   "metadata": {},
   "outputs": [
    {
     "data": {
      "text/plain": [
       "array('this', dtype='<U4')"
      ]
     },
     "execution_count": 5,
     "metadata": {},
     "output_type": "execute_result"
    }
   ],
   "source": [
    "np.char.lower(str1)"
   ]
  },
  {
   "cell_type": "code",
   "execution_count": 6,
   "id": "aafffd4d",
   "metadata": {},
   "outputs": [
    {
     "data": {
      "text/plain": [
       "array('THAT', dtype='<U4')"
      ]
     },
     "execution_count": 6,
     "metadata": {},
     "output_type": "execute_result"
    }
   ],
   "source": [
    "np.char.upper(str2)"
   ]
  },
  {
   "cell_type": "code",
   "execution_count": 7,
   "id": "a3046f03",
   "metadata": {},
   "outputs": [
    {
     "data": {
      "text/plain": [
       "array('                       This                       ', dtype='<U50')"
      ]
     },
     "execution_count": 7,
     "metadata": {},
     "output_type": "execute_result"
    }
   ],
   "source": [
    "np.char.center(str1, 50)"
   ]
  },
  {
   "cell_type": "code",
   "execution_count": 9,
   "id": "27ce9f61",
   "metadata": {},
   "outputs": [
    {
     "data": {
      "text/plain": [
       "array('********************** Yee ***********************', dtype='<U50')"
      ]
     },
     "execution_count": 9,
     "metadata": {},
     "output_type": "execute_result"
    }
   ],
   "source": [
    "np.char.center(\" Yee \", 50, fillchar=\"*\")"
   ]
  },
  {
   "cell_type": "code",
   "execution_count": 10,
   "id": "b94c3b48",
   "metadata": {},
   "outputs": [
    {
     "data": {
      "text/plain": [
       "array(list(['This']), dtype=object)"
      ]
     },
     "execution_count": 10,
     "metadata": {},
     "output_type": "execute_result"
    }
   ],
   "source": [
    "np.char.split(str1)"
   ]
  },
  {
   "cell_type": "code",
   "execution_count": 11,
   "id": "f9825087",
   "metadata": {},
   "outputs": [],
   "source": [
    "str3 = \"Thsi and That\""
   ]
  },
  {
   "cell_type": "code",
   "execution_count": 12,
   "id": "62dd5fc6",
   "metadata": {},
   "outputs": [
    {
     "data": {
      "text/plain": [
       "array(list(['Thsi', 'and', 'That']), dtype=object)"
      ]
     },
     "execution_count": 12,
     "metadata": {},
     "output_type": "execute_result"
    }
   ],
   "source": [
    "np.char.split(str3)"
   ]
  },
  {
   "cell_type": "code",
   "execution_count": 13,
   "id": "fd5b2e9f",
   "metadata": {},
   "outputs": [
    {
     "data": {
      "text/plain": [
       "array(list(['this', 'that']), dtype=object)"
      ]
     },
     "execution_count": 13,
     "metadata": {},
     "output_type": "execute_result"
    }
   ],
   "source": [
    "np.char.splitlines(\"this\\nthat\")"
   ]
  },
  {
   "cell_type": "code",
   "execution_count": 14,
   "id": "fb389fef",
   "metadata": {},
   "outputs": [],
   "source": [
    "str4 = \"she\"\n",
    "str5 = \"she\""
   ]
  },
  {
   "cell_type": "code",
   "execution_count": 15,
   "id": "a59a222e",
   "metadata": {},
   "outputs": [
    {
     "data": {
      "text/plain": [
       "array(['s:h:e', 's/h/e'], dtype='<U5')"
      ]
     },
     "execution_count": 15,
     "metadata": {},
     "output_type": "execute_result"
    }
   ],
   "source": [
    "np.char.join([\":\", \"/\"], [str4, str5])"
   ]
  },
  {
   "cell_type": "code",
   "execution_count": 16,
   "id": "eb090f53",
   "metadata": {},
   "outputs": [
    {
     "data": {
      "text/plain": [
       "array('Us', dtype='<U2')"
      ]
     },
     "execution_count": 16,
     "metadata": {},
     "output_type": "execute_result"
    }
   ],
   "source": [
    "np.char.replace(str1, \"This\", \"Us\")"
   ]
  },
  {
   "cell_type": "code",
   "execution_count": 17,
   "id": "052c0249",
   "metadata": {},
   "outputs": [
    {
     "data": {
      "text/plain": [
       "array(True)"
      ]
     },
     "execution_count": 17,
     "metadata": {},
     "output_type": "execute_result"
    }
   ],
   "source": [
    "np.char.equal(str4, str5)"
   ]
  },
  {
   "cell_type": "code",
   "execution_count": 18,
   "id": "35e0f0ac",
   "metadata": {},
   "outputs": [],
   "source": [
    "str6 = \"weeee\""
   ]
  },
  {
   "cell_type": "code",
   "execution_count": 19,
   "id": "065ef56f",
   "metadata": {},
   "outputs": [
    {
     "data": {
      "text/plain": [
       "array(4)"
      ]
     },
     "execution_count": 19,
     "metadata": {},
     "output_type": "execute_result"
    }
   ],
   "source": [
    "np.char.count(str6, \"e\")"
   ]
  },
  {
   "cell_type": "code",
   "execution_count": 20,
   "id": "93b55f18",
   "metadata": {},
   "outputs": [
    {
     "data": {
      "text/plain": [
       "array(1)"
      ]
     },
     "execution_count": 20,
     "metadata": {},
     "output_type": "execute_result"
    }
   ],
   "source": [
    "np.char.find(str6, \"e\")"
   ]
  },
  {
   "cell_type": "code",
   "execution_count": null,
   "id": "719fb0d9",
   "metadata": {},
   "outputs": [],
   "source": []
  }
 ],
 "metadata": {
  "kernelspec": {
   "display_name": "Python 3",
   "language": "python",
   "name": "python3"
  },
  "language_info": {
   "codemirror_mode": {
    "name": "ipython",
    "version": 3
   },
   "file_extension": ".py",
   "mimetype": "text/x-python",
   "name": "python",
   "nbconvert_exporter": "python",
   "pygments_lexer": "ipython3",
   "version": "3.8.8"
  }
 },
 "nbformat": 4,
 "nbformat_minor": 5
}
